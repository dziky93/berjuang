{
 "cells": [
  {
   "cell_type": "code",
   "execution_count": 5,
   "metadata": {},
   "outputs": [],
   "source": [
    "import re, string, unicodedata\n",
    "import nltk\n",
    "from nltk import word_tokenize, sent_tokenize\n",
    "from nltk.corpus import stopwords"
   ]
  },
  {
   "cell_type": "code",
   "execution_count": 6,
   "metadata": {},
   "outputs": [],
   "source": [
    "#preprocessing\n",
    "\n",
    "def removeStopword(str):\n",
    "    stop_words = set(stopwords.words('indonesian'))\n",
    "    word_tokens = word_tokenize(str)\n",
    "    filtered_sentence = [w for w in word_tokens if not w in stop_words]\n",
    "    return ' '.join(filtered_sentence)\n",
    "\n",
    "def removeStopword2(str):\n",
    "    stop_words = set(stopwords.words('english'))\n",
    "    word_tokens = word_tokenize(str)\n",
    "    filtered_sentence = [w for w in word_tokens if not w in stop_words]\n",
    "    return ' '.join(filtered_sentence)\n",
    "\n",
    "#remove sentence which contains only one word\n",
    "def removeSentence(str): \n",
    "    word = str.split()\n",
    "    wordCount = len(word)\n",
    "    if(wordCount<=1):\n",
    "        str = ''\n",
    "    \n",
    "    return str\n",
    "\n",
    "def cleaning(str):\n",
    "    #remove non-ascii\n",
    "    str = unicodedata.normalize('NFKD', str).encode('ascii', 'ignore').decode('utf-8', 'ignore')\n",
    "    #remove URLs\n",
    "    str = re.sub(r'(?i)\\b((?:https?://|www\\d{0,3}[.]|[a-z0-9.\\-]+[.][a-z]{2,4}/)(?:[^\\s()<>]+|\\(([^\\s()<>]+|(\\([^\\s()<>]+\\)))*\\))+(?:\\(([^\\s()<>]+|(\\([^\\s()<>]+\\)))*\\)|[^\\s`!()\\[\\]{};:\\'\".,<>?«»“”‘’]))', '', str)\n",
    "    #remove punctuations\n",
    "    str = re.sub(r'[^\\w]|_',' ',str)\n",
    "    #remove digit from string\n",
    "    str = re.sub(\"\\S*\\d\\S*\", \"\", str).strip()\n",
    "    #remove digit or numbers\n",
    "    str = re.sub(r\"\\b\\d+\\b\", \" \", str)\n",
    "    #to lowercase\n",
    "    str = str.lower()\n",
    "    #Remove additional white spaces\n",
    "    str = re.sub('[\\s]+', ' ', str)\n",
    "       \n",
    "    return str\n",
    "\n",
    "\n",
    "def preprocessing(str):\n",
    "    str = removeSentence(str)\n",
    "    str = cleaning(str)\n",
    "    str = removeStopword(str)\n",
    "    str = removeStopword2(str)\n",
    "    \n",
    "    return str"
   ]
  },
  {
   "cell_type": "code",
   "execution_count": 7,
   "metadata": {},
   "outputs": [
    {
     "name": "stdout",
     "output_type": "stream",
     "text": [
      "hati\n",
      "taubah al fatihan mencoba belajar\n",
      "\n",
      "\n",
      "\n"
     ]
    }
   ],
   "source": [
    "#test the code\n",
    "sentences = [\"pada dalam hati yang\",\"at taubah al fatihan saya mencoba yang ini, 45 belajar\",\"s\", \"tuh\",\"sih yg\"]\n",
    "\n",
    "for st in sentences:\n",
    "    r = preprocessing(st)\n",
    "    print(r)"
   ]
  },
  {
   "cell_type": "code",
   "execution_count": 8,
   "metadata": {},
   "outputs": [],
   "source": [
    "#do preprocessing\n",
    "import pandas as pd\n",
    "import xlsxwriter\n",
    "\n",
    "fo = pd.read_csv('dbs/dataTwAgs2.csv',encoding = \"ISO-8859-1\", engine='python')\n",
    "txt = fo['text'] #judul\n",
    "workbook = xlsxwriter.Workbook('clean-data3.xlsx')\n",
    "worksheet = workbook.add_worksheet()\n",
    "\n",
    "row = 0\n",
    "col = 0\n",
    "\n",
    "rowHeaders = ['text']\n",
    "worksheet.write_row(row, col,  tuple(rowHeaders))\n",
    "        \n",
    "for t in txt:\n",
    "    new_txt = preprocessing(t)\n",
    "    rowValues = [new_txt]\n",
    "    row += 1\n",
    "    worksheet.write_row(row, col, tuple(rowValues))\n",
    "    \n",
    "workbook.close()"
   ]
  }
 ],
 "metadata": {
  "kernelspec": {
   "display_name": "Python 3.7.2 32-bit",
   "language": "python",
   "name": "python37232bita2f110e64e9d4b96a12a237e2c8193ef"
  },
  "language_info": {
   "codemirror_mode": {
    "name": "ipython",
    "version": 3
   },
   "file_extension": ".py",
   "mimetype": "text/x-python",
   "name": "python",
   "nbconvert_exporter": "python",
   "pygments_lexer": "ipython3",
   "version": "3.7.2"
  }
 },
 "nbformat": 4,
 "nbformat_minor": 2
}
